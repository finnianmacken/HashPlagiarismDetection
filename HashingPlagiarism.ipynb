{
 "cells": [
  {
   "cell_type": "markdown",
   "metadata": {},
   "source": [
    "# Plagiarism & Hashing]\n",
    "Finn Macken"
   ]
  },
  {
   "cell_type": "markdown",
   "metadata": {},
   "source": [
    "# Version One: Rolling Hashing"
   ]
  },
  {
   "cell_type": "code",
   "execution_count": 1,
   "metadata": {},
   "outputs": [],
   "source": [
    "class HashNode:\n",
    "    def __init__(self, key, value, startingindex, nextnode = None, prevnode = None):\n",
    "        \"\"\"\n",
    "        This class is a representation of a hash key value pair, with more attributes\n",
    "        and methods for increased functionality\n",
    "        \n",
    "        Parameters\n",
    "        ----------\n",
    "        self.key: int\n",
    "            the hash key associated with the node\n",
    "        self.value: str\n",
    "            the substring from which the hash was generated\n",
    "        self.nextnode: HashNode\n",
    "            a pointer variable which contains the next hashnode in a chain\n",
    "        self.startingindex: int\n",
    "            the index in the associated string at which the substring began\n",
    "        \"\"\"\n",
    "        self.key = key\n",
    "        self.value = value\n",
    "        self.nextnode = nextnode\n",
    "        self.startingindex = startingindex\n",
    "        \n",
    "    def __repr__(self):\n",
    "        \"\"\"\n",
    "        The string representation of the HashNode\n",
    "        \"\"\"\n",
    "        return f'({self.key}, {self.value}, {self.startingindex}), next: [{self.nextnode}]'\n",
    "\n",
    "class HashTable:\n",
    "    def __init__(self):\n",
    "        \"\"\"\n",
    "        This class implements a hash table that can be used to solve the string\n",
    "        matching problem, and which uses rolling hashing to compute hashes\n",
    "        \n",
    "        Parameters\n",
    "        ----------\n",
    "        self.table: array\n",
    "            array used to implement a hash table\n",
    "        self.base: int\n",
    "            the base that each hash code is in\n",
    "        self.q: int\n",
    "            the divisor used in the hash function -- dynamic value\n",
    "        self.prime: int\n",
    "            the prime used in the second hash function in double hashing\n",
    "        self.hash_method: self.rolling_hashify OR self.static_hashify\n",
    "            the method used to compute hash values from substring inputs\n",
    "        self.collisions: int\n",
    "            # of collisions that occurred when constructing hash table\n",
    "        \"\"\"\n",
    "        self.table = []\n",
    "        self.base = 7\n",
    "        self.q = 7\n",
    "        self.prime = 21\n",
    "        self.hash_method = self.rolling_hashify\n",
    "        self.collisions = 0\n",
    "        \n",
    "    def clean_string(self, string):\n",
    "        \"\"\"\n",
    "        Processes an input string so that it's suitable for hashing. Removes\n",
    "        spaces and special characters and converts upper case to lower case.\n",
    "\n",
    "        Parameters\n",
    "        ---------\n",
    "        string: str\n",
    "            input string\n",
    "\n",
    "        Output\n",
    "        ---------\n",
    "        new_string: str\n",
    "            processed version of input string\n",
    "        \"\"\"\n",
    "        new_string = string.lower()\n",
    "        \n",
    "        # remove all illegal characters from the input string\n",
    "        bad_characters = \".,\\/ ;\"\n",
    "        for char in bad_characters:\n",
    "            new_string = new_string.replace(char, '')\n",
    "        new_string = new_string.replace('\"', '')\n",
    "        new_string = new_string.replace(\"'\", \"\")\n",
    "        return new_string\n",
    "\n",
    "    def ascii_sum(self, string):\n",
    "        \"\"\"\n",
    "        Converts the given string into an integer using ASCII code conversion, \n",
    "        for use in hashing\n",
    "\n",
    "        Parameters\n",
    "        ----------\n",
    "        string: str\n",
    "            The string to be converted\n",
    "        \n",
    "        Outputs\n",
    "        ----------\n",
    "        ascii_sum: int\n",
    "            an ascii sum representation of the input string\n",
    "        \"\"\"\n",
    "        \n",
    "        \n",
    "        ascii_sum = 0\n",
    "        exp_value = len(string)-1\n",
    "        \n",
    "        # creates a hash value by raising a char's ascii code to its word position\n",
    "        for char in string:\n",
    "            ascii_sum += ord(char)*(self.base**exp_value)\n",
    "            exp_value -= 1\n",
    "        return ascii_sum\n",
    "    \n",
    "    \n",
    "    def rolling_hash(self, old_str, old_hash, new_char):\n",
    "        \"\"\"\n",
    "        Implements a rolling hash algorithm, where an old hash\n",
    "        is used to calculate a new hash\n",
    "            \n",
    "        Parameters\n",
    "        ----------\n",
    "        old_str: str\n",
    "            The previous string from which the hash was calculated\n",
    "        old_hash: int\n",
    "            The previous output of the hash function\n",
    "        new_char: str\n",
    "            The new character to be added\n",
    "           \n",
    "        Output\n",
    "        ------\n",
    "        final_hash: int\n",
    "            the new hash obtained from the old hash and the new character\n",
    "        \"\"\"\n",
    "        # numeric representation of appending new_char to the word\n",
    "        append_hash = old_hash*self.base + ord(new_char) % self.q\n",
    "\n",
    "        # numeric represetation of removing the first character from the word\n",
    "        final_hash=((append_hash-ord(old_str[0])*(self.base**len(old_str)))%self.q)%self.q\n",
    "        return final_hash\n",
    "        \n",
    "    def rolling_hashify(self, input_string, substring_length):\n",
    "        \"\"\"\n",
    "        Takes an input string and returns a list containing all keys\n",
    "        and values provided after hashing all substrings of length m\n",
    "        using a rolling hash method\n",
    "\n",
    "        Parameters\n",
    "        ---------\n",
    "        string: str\n",
    "            The input string\n",
    "        substring_length: int\n",
    "            the length of all substrings to be extracted from the input string\n",
    "        \n",
    "        Output\n",
    "        ------\n",
    "        hash_outputs: lst of tuples\n",
    "            list of all keys, values and starting indexes of substrings\n",
    "        \"\"\"\n",
    "        # preprocess the string to remove illegal characters\n",
    "        string = self.clean_string(input_string)\n",
    "\n",
    "        # create a list to store all substrings\n",
    "        hash_outputs = []\n",
    "\n",
    "        # set variables for substring indexing\n",
    "        n = len(string)\n",
    "        m = substring_length\n",
    "        k = 0 # iterator variable\n",
    "    \n",
    "        # compute the value of the first hash and string of length m\n",
    "        recent_hash = self.ascii_sum(string[k:k+m]) % self.q\n",
    "\n",
    "        # store the values that we just found\n",
    "        recent_string = string[k:k+m]\n",
    "        hash_outputs.append((recent_hash, string[k:k+m], k))\n",
    "        k += 1\n",
    "\n",
    "        # iterate through the string to find/store all substrings of length m\n",
    "        while k <= n - m:\n",
    "            new_hash = self.rolling_hash(recent_string,recent_hash, string[k+m-1])\n",
    "            hash_outputs.append((new_hash, string[k:k+m], k))\n",
    "            \n",
    "            # overwrite/increment all variables for the next calculation\n",
    "            recent_hash = new_hash\n",
    "            recent_string = string[k:k+m]\n",
    "            k += 1\n",
    "        return hash_outputs\n",
    "    \n",
    "    def insert(self, hashnode):\n",
    "        \"\"\"\n",
    "        Inserts a HashNode at a given index, dealing with\n",
    "        collisions through double hashing and duplicates through\n",
    "        chaining\n",
    "        \n",
    "        Parameters\n",
    "        ---------\n",
    "        hashnode: HashNode\n",
    "            The hash key value pair to be inserted\n",
    "            \n",
    "        Outputs\n",
    "        --------\n",
    "        None\n",
    "        \"\"\"\n",
    "        \n",
    "        index = hashnode.key\n",
    "        \n",
    "        # increase the table size if it's too small for the index\n",
    "        if index >= len(self.table):\n",
    "            none_list = [None for i in range(len(self.table), index+2)]\n",
    "            self.table.extend(none_list)\n",
    "        \n",
    "        # if there are no collisions\n",
    "        if self.table[index] == None:\n",
    "            self.table[index] = hashnode\n",
    "        \n",
    "        # if there's a collision\n",
    "        elif type(self.table[index]).__name__ == \"HashNode\":\n",
    "            self.collisions += 1\n",
    "            \n",
    "            # deals with duplicate cases using the chaining approach\n",
    "            if self.table[index].value == hashnode.value:\n",
    "                node = self.table[index]\n",
    "                while node.nextnode != None:\n",
    "                    node = node.nextnode\n",
    "                node.nextnode = hashnode\n",
    "            \n",
    "            # deals with other cases using double hashed open addressing\n",
    "            else:\n",
    "                i = 1\n",
    "                \n",
    "                while type(self.table[index]).__name__ == \"HashNode\":\n",
    "                    self.collisions += 1\n",
    "                    \n",
    "                    # perform secondary hashing to find a new index\n",
    "                    index = index % 31 +i*(self.prime - index % self.prime)\n",
    "                    i += 1\n",
    "                    \n",
    "                    # if the new index is larger than the table, extend the table\n",
    "                    if index >= len(self.table):\n",
    "                        none_list = [None for i in range(len(self.table), index+1)]\n",
    "                        self.table.extend(none_list)\n",
    "            \n",
    "                if index < len(self.table):\n",
    "                    self.table[index] = hashnode\n",
    "                else:\n",
    "                    return \"Table Extension Error\"\n",
    "        else:\n",
    "            return \"Chain Insert Error\"\n",
    "\n",
    "    def create_hash_table(self, string, substring_length, verbose = True):\n",
    "        \"\"\"\n",
    "        Creates a hash table given a set of keys and values\n",
    "\n",
    "        Parameters:\n",
    "        -----------\n",
    "        string: str\n",
    "            the input string from which the hash table is constructed\n",
    "        substring_length: int\n",
    "            the length of the substrings to be found in string\n",
    "        verbose: Boolean\n",
    "            A switch variable; when True, reports the load factor of the table\n",
    "\n",
    "        Outputs\n",
    "        ----------\n",
    "        hash_table: lst\n",
    "            A hash table, represented through a Python list\n",
    "        \"\"\"\n",
    "        # get all hash key value pairs\n",
    "        hash_outputs = self.hash_method(string, substring_length)\n",
    "\n",
    "        # insert key value pair nodes into the hash table\n",
    "        for hashterm in hash_outputs:\n",
    "            node = HashNode(key = hashterm[0], \n",
    "                            value = hashterm[1], \n",
    "                            startingindex = hashterm[2])\n",
    "            self.insert(node)\n",
    "        \n",
    "        \n",
    "        # calculate the load factor of the table\n",
    "        if verbose == True:\n",
    "            load_factor = len(hash_outputs)/len(self.table)\n",
    "            print(f\"The load factor is: {round(load_factor, 3)}\")\n",
    "        \n",
    "        return self.table\n",
    "        \n",
    "    def compare_substrings(self, x, y, substring_length, \n",
    "                           debug = False, verbose = True,\n",
    "                           xswitch = False, collision_count = False):\n",
    "        \"\"\"\n",
    "        Finds common substrings in x and y of length substring_length\n",
    "        \n",
    "        Parameters\n",
    "        ----------\n",
    "        x: str\n",
    "            the first string to be compared\n",
    "        y: str\n",
    "            the second string to be compared\n",
    "        substring_length: int\n",
    "            length of the substrings to be found\n",
    "        debug: Boolean\n",
    "            switch variable; when True, returns the list of key-value pairs for debug\n",
    "        verbose: Boolean\n",
    "            switch variable; when True, reports the load factor of the hash table\n",
    "        xswitch: Boolean\n",
    "            switch variable; when True, returns x's hash table instead of matches\n",
    "        collision_count: Boolean\n",
    "            switch variable; when True, returns the # of collisions instead of matches\n",
    "        \"\"\"\n",
    "        \n",
    "        if type(x) != str or type(y) != str:\n",
    "            return \"x and y must both be strings\"\n",
    "        \n",
    "        # reset table for new calculation\n",
    "        self.table = [None]\n",
    "        \n",
    "        # compute an appropriate q given input sizes\n",
    "        maxlen = len(x)\n",
    "        # the number of non-empty substrings is n*(n+1)//2\n",
    "        calcval = (maxlen*(maxlen+1)//2)//2\n",
    "        if calcval == 0: # this only occurs if the table is empty\n",
    "            self.q = 7 # this could be anything\n",
    "        else:\n",
    "            self.q = calcval\n",
    "        \n",
    "        \n",
    "        matches = [] # container variable to hold all matched substrings\n",
    "        \n",
    "        # create a hash table for x\n",
    "        xtable = self.create_hash_table(x, substring_length, verbose)\n",
    "    \n",
    "        # find all substrings in y of the appropriate length\n",
    "        yhashes = self.hash_method(y, substring_length)\n",
    "        \n",
    "        # for each substring, check if there's a match\n",
    "        for hashtuple in yhashes:\n",
    "            hashindex = hashtuple[0]\n",
    "            hashstring = hashtuple[1]\n",
    "            \n",
    "            if hashindex < len(xtable):\n",
    "                if xtable[hashindex] != None:\n",
    "                    \n",
    "                    node = xtable[hashindex]\n",
    "                    \n",
    "                    # if it's the string we want, return it and all duplicates\n",
    "                    if node.value == hashstring:                        \n",
    "                        # get all duplicates\n",
    "                        while node != None:\n",
    "                            matches.append((hashtuple[1], node.startingindex, hashtuple[2]))\n",
    "                            node = node.nextnode\n",
    "                    \n",
    "                    # if it's not, continue searching until the end of the table\n",
    "                    else:\n",
    "                        i=1\n",
    "                        while hashindex < len(xtable):\n",
    "                            \n",
    "                            # compute the next index it might be at\n",
    "                            hashindex = hashindex % 31 + i *(self.prime-hashindex%self.prime)\n",
    "                            \n",
    "                            # if you find any node, check it\n",
    "                            if hashindex < len(xtable):\n",
    "                                if xtable[hashindex] != None:\n",
    "                                    if xtable[hashindex].value == hashstring:\n",
    "\n",
    "                                        node = xtable[hashindex]\n",
    "                                        \n",
    "                                        # get all duplicates\n",
    "                                        while node != None:\n",
    "                                            if node not in matches:\n",
    "                                                matches.append((hashtuple[1], node.startingindex, hashtuple[2]))\n",
    "                                            node = node.nextnode\n",
    "\n",
    "                                        break\n",
    "                                else: # increment if it's not the node we're looking for\n",
    "                                    i+=1\n",
    "                            else: # if you hit an empty slot, the string isn't there -- break the loop\n",
    "                                break\n",
    "                            \n",
    "        # deals with the case where the input is empty strings\n",
    "        if matches == [('', 0, 0)]:\n",
    "            return []\n",
    "        \n",
    "        if debug == True:\n",
    "            return self.rolling_hashify(x, substring_length)\n",
    "        \n",
    "        elif xswitch == True:\n",
    "            return xtable\n",
    "        \n",
    "        elif collision_count == True:\n",
    "            return self.collisions\n",
    "        \n",
    "        else:\n",
    "            return matches"
   ]
  },
  {
   "cell_type": "markdown",
   "metadata": {},
   "source": [
    "# Tests"
   ]
  },
  {
   "cell_type": "code",
   "execution_count": 19,
   "metadata": {},
   "outputs": [
    {
     "name": "stdout",
     "output_type": "stream",
     "text": [
      "The load factor is: 0.159\n",
      "The load factor is: 0.023\n",
      "The load factor is: 1.0\n",
      "The load factor is: 1.0\n",
      "The load factor is: 1.0\n",
      "The load factor is: 0.003\n"
     ]
    },
    {
     "data": {
      "text/plain": [
       "[]"
      ]
     },
     "execution_count": 19,
     "metadata": {},
     "output_type": "execute_result"
    },
    {
     "data": {
      "image/png": "[encoded data removed]",
      "text/plain": [
       "<Figure size 432x288 with 1 Axes>"
      ]
     },
     "metadata": {
      "needs_background": "light"
     },
     "output_type": "display_data"
    }
   ],
   "source": [
    "import matplotlib.pyplot as plt\n",
    "\n",
    "hashtable = HashTable()\n",
    "\n",
    "# Test 1: Simple Test\n",
    "x = \"Today is Monday'\"\n",
    "y = 'today'\n",
    "assert hashtable.compare_substrings(x, y, 3) == [('tod', 0, 0), ('oda', 1, 1), ('day', 2, 2), ('day', 10, 2)]\n",
    "\n",
    "# Test 2: Plagiarism Detection\n",
    "x = \"I had an original idea: hash tables can detect plagiarism.\"\n",
    "y = \"In part one of this assignment, I showed that hash tables can detect plagiarism\"\n",
    "assert hashtable.compare_substrings(x, y, 29) == [('hashtablescandetectplagiarism', 19, 36)]\n",
    "\n",
    "# Test 3: Edge Cases\n",
    "x = \"\"\n",
    "y = \"\"\n",
    "assert hashtable.compare_substrings(x, y, 3) == []\n",
    "\n",
    "x = ',.;/'\n",
    "y = \"\"\n",
    "assert hashtable.compare_substrings(x, y, 1) == []\n",
    "\n",
    "x = \" \"\n",
    "y = \" \"\n",
    "assert hashtable.compare_substrings(x, y, 1) == []\n",
    "\n",
    "x = 1\n",
    "y = 2\n",
    "assert hashtable.compare_substrings(x, y, 1) == \"x and y must both be strings\"\n",
    "\n",
    "# OTHER TESTS\n",
    "# Uniformity of distribution Test 1\n",
    "x = \"In computing, a hash table (hash map) is a data structure that implements an associative array abstract data type, a structure that can map keys to values. A hash table uses a hash function to compute an index, also called a hash code, into an array of buckets or slots, from which the desired value can be found. During lookup, the key is hashed and the resulting hash indicates where the corresponding value is stored. Ideally, the hash function will assign each key to a unique bucket, but most hash table designs employ an imperfect hash function, which might cause hash collisions where the hash function generates the same index for more than one key. Such collisions are typically accommodated in some way. In a well-dimensioned hash table, the average cost (number of instructions) for each lookup is independent of the number of elements stored in the table. Many hash table designs also allow arbitrary insertions and deletions of key–value pairs, at (amortized[2]) constant average cost per operation.[3][4]\"\n",
    "y = \"A basic requirement is that the function should provide a uniform distribution of hash values. A non-uniform distribution increases the number of collisions and the cost of resolving them. Uniformity is sometimes difficult to ensure by design, but may be evaluated empirically using statistical tests, e.g., a Pearson's chi-squared test for discrete uniform distributions.[6][7]\"\n",
    "\n",
    "indexes = []\n",
    "hashtuples = hashtable.compare_substrings(x, y, 10, debug = True)\n",
    "for tup in hashtuples:\n",
    "    indexes.append(tup[0])\n",
    "\n",
    "plt.hist(indexes, bins = 'auto', color='#0504aa',rwidth=0.85)\n",
    "plt.xlabel(\"Hash Value\")\n",
    "plt.ylabel(\"Frequency\")\n",
    "plt.title(\"Distribution of Hash Values\")\n",
    "plt.plot()"
   ]
  },
  {
   "cell_type": "code",
   "execution_count": 3,
   "metadata": {},
   "outputs": [
    {
     "name": "stdout",
     "output_type": "stream",
     "text": [
      "x: Z22{7k4aS-5/EeGvJ[%R$A]_@VZ)NN1,S|osedRw}Ul=OlP=\\_Vn,\\OJ,1hYJjEcJRmJ^CJg`~'b&,,xf4ArgDU,7a*<l';Lq:ZgA3;AOE8Fh.:NZZJf@%V6dSjk=^'|tskwn'3#`s?;8tp[em^?1[\n",
      "y: +Lu;Jo-a(GS[?T3doEo6By]*KLg>,lnVYH{>_QObWkti$oy$SzB'oSgO.aP6}@\\.6g@mqsaD\"Gk`ZMq`~qJ'`:Tg;iJiMs3.\\}V8c~,{LrJa}PnM}]a-jKs,6I'w7Tt&7~.Gr7qEGSfL9qASMt$I@\\\n",
      "The load factor is: 0.022\n"
     ]
    },
    {
     "data": {
      "text/plain": [
       "[]"
      ]
     },
     "execution_count": 3,
     "metadata": {},
     "output_type": "execute_result"
    },
    {
     "data": {
      "image/png": "[encoded data removed]",
      "text/plain": [
       "<Figure size 432x288 with 1 Axes>"
      ]
     },
     "metadata": {
      "needs_background": "light"
     },
     "output_type": "display_data"
    }
   ],
   "source": [
    "# Uniformity of distribution Test 2\n",
    "import string\n",
    "import random\n",
    "\n",
    "chars = 150\n",
    "x = \"\".join(random.choices(string.ascii_letters + \n",
    "                                       string.punctuation + \n",
    "                                       string.digits,\n",
    "                                       k = chars))\n",
    "y = \"\".join(random.choices(string.ascii_letters + \n",
    "                                       string.punctuation + \n",
    "                                       string.digits,\n",
    "                                       k = chars))\n",
    "\n",
    "print(\"x:\", x)\n",
    "print(\"y:\", y)\n",
    "\n",
    "indexes = []\n",
    "hashtuples = hashtable.compare_substrings(x, y, 10, debug = True)\n",
    "for tup in hashtuples:\n",
    "    indexes.append(tup[0])\n",
    "\n",
    "plt.hist(indexes, bins = 'auto', color='#0504aa',rwidth=0.85)\n",
    "plt.xlabel(\"Hash Value\")\n",
    "plt.ylabel(\"Frequency\")\n",
    "plt.title(\"Distribution of Hash Values\")\n",
    "plt.plot()\n"
   ]
  },
  {
   "cell_type": "code",
   "execution_count": 4,
   "metadata": {},
   "outputs": [
    {
     "name": "stdout",
     "output_type": "stream",
     "text": [
      "The load factor is: 0.083\n"
     ]
    },
    {
     "data": {
      "text/plain": [
       "[]"
      ]
     },
     "execution_count": 4,
     "metadata": {},
     "output_type": "execute_result"
    },
    {
     "data": {
      "image/png": "[encoded data removed]",
      "text/plain": [
       "<Figure size 432x288 with 1 Axes>"
      ]
     },
     "metadata": {
      "needs_background": "light"
     },
     "output_type": "display_data"
    }
   ],
   "source": [
    "# Uniformity of distribution Test 3\n",
    "x = '123456789abcdefghijklmnopqrstuvwxyz'\n",
    "y = '123456789abcdefghijklmnopqrstuvwxyz'\n",
    "\n",
    "indexes = []\n",
    "hashtuples = hashtable.compare_substrings(x, y, 10, debug = True)\n",
    "for tup in hashtuples:\n",
    "    indexes.append(tup[0])\n",
    "\n",
    "plt.hist(indexes, bins = 'auto', color='#0504aa',rwidth=0.85)\n",
    "plt.xlabel(\"Hash Value\")\n",
    "plt.ylabel(\"Frequency\")\n",
    "plt.title(\"Distribution of Hash Values\")\n",
    "plt.plot()"
   ]
  },
  {
   "cell_type": "markdown",
   "metadata": {},
   "source": [
    "# Test Reflections\n",
    "These tests demonstrate that the algorithm performs well for many different inputs, including edge cases, small inputs, and larger inputs.  I show that the distribution of hash values for several different inputs (including the same strings, and strings composed of randomly chosen characters) is uniform, decreasing the probability of collision. I also calculate the load factor for each of my test cases, and find that it's consistently much lower than 1."
   ]
  },
  {
   "cell_type": "markdown",
   "metadata": {},
   "source": [
    "# Algorithmic Design Justifications\n",
    "\n",
    "## Size of the Hash Table\n",
    "The most interesting component of the hash table that I built is that it sizes itself dynamically as it computes substring hashes, with a goal of allotting enough slots to prevent collisions without being unnecessarily large.\n",
    "\n",
    "The underlying principle is that the choice of ``mod q`` in the hash function changes the number of indices that the resulting hash function generates. The only way to have the ability to generate indices for the entire table is to set ``q`` equivalent to table size. This creates a serious problem when using double hash open addressing (which is what I use here to prevent clustering), because unless the table is ridiculously large, you very quickly generate indexes that are larger than the table size.\n",
    "\n",
    "To solve this problem, I made two algorithmic decisions. First, I set ``q`` to the number of substrings that could be formed from the provided string. For ``len(x) = n``, this is ``n*(n+1)//``. Then, I built a dynamically adjusting table, which increases its size to accomodate any indices which are larger than it.\n",
    "\n",
    "This means that the algorithm sorts out the table size such that it's not any larger than it needs to be, given the hash functions that have been implemented. At the same time, it adjusts the number of hash function outputs based on what the input size: a string of length 10 will result in far fewer indices than a string of length 100.\n",
    "\n",
    "As I discuss in the data structures section, I also employ linked lists to manage duplicates and keep overall table size small.\n",
    "\n",
    "## The Hash Function\n",
    "I employ two hash functions in this first implementation of my code. Each substring is first given a hash value using rolling hashing and an ascii code sum, wherein the previous hash value is used to calculate the next hash value to save. calculation time.\n",
    "\n",
    "In the case of collision, the hash value is recalculated using the sum of the same hash function employed previously and a new hash function multiplied by an iteration counter. As described above, the parameter of the first hash function ``q`` is designed to minimise the number of collisions while keeping table size small, by setting it equal to the estimated table size. The second hash function is designed so that it always returns a positive integer smaller than ``q`` (inspired by Ha and Quang's implementation in the help guide).\n",
    "\n",
    "These decisions are designed to fulfil four main criteria: the hash function uses all input data of the string, it generates different hash values for similar strings, it is fully determined by the input data, and it closely approximates a uniform distribution, as we can see in the histograms produced in the tests above. An approximately uniform distribution is essential because it minimises the number of collisions, decreasing time complexity.\n",
    "\n",
    "## Data Stuctures\n",
    "My algorithmic strategy employs three main data structures: an array to hold hash table values, a linked list system implemented through the use of pointer attributes in the HashNode class, and a class to structure the algorithm.\n",
    "\n",
    "I chose an array for the hash table because its designed for iteration and indexing (which I do extremely frequently in my algorithm), and isn't built on top of an existing hash table (e.g. dictionaries and sets). In addition, array data points are stored next to each other in memory (unlike in a linked list system), which makes recall faster when indexing and iterating. The main downside of an array structure is that they have a fixed length. Above, I describe how I address this issue using dynamic table extension.\n",
    "\n",
    "In my algorithm, I use a linked list system to store copies of the same substring that occur at different indices. This has the advantage that copies of the same data are stored in the same place, keeping table size small and making some searches more efficient. For example, if you wanted to check all instances of a repeated substring, a normal open addressed hash table would require you to iterate through all indexes where the hash value is stored, making you parse through lots of extraneous data points that happen to have the same hash. In the system I built, you only have to find one index with the specified substring, and all instances of that substring are stored there.\n",
    "\n",
    "Finally, I used a Python class to structure my algorithm. This had many advantages. First, it allowed me to make several global attributes (``q``, ``base``, ``prime``, etc.) available to all methods, while constraining them within the class. This massively decreased the number of arguments in each method, and ensured consistency across methods while developing. This also allowed for inheritance for part two of this assignment, allowing me to re-use most of the code that I'd previously written and preventing discrepancies between the two versions."
   ]
  },
  {
   "cell_type": "markdown",
   "metadata": {},
   "source": [
    "# Version Two: Static Hash Function"
   ]
  },
  {
   "cell_type": "markdown",
   "metadata": {},
   "source": [
    "## Finding an effective hash function\n",
    "Effective hash functions must have several characteristics:\n",
    "1. **Outputs must be fully determined by the data being hashed**: hash functions always have to give the same output for the same input, which means that only the data should be used to calculate the output. If ``a == b`` doesn't imply ``hash(a) == hash(b)``, then you can't use hash values to look up values in a table accurately, because you can't be guaranteed that ``table[hash(a)] == table[hash(b)]``.\n",
    "\n",
    "2. **The function should use all of the data to compute the output**: hash functions become ineffective when many different inputs produce the same output. This happens far more frequently when only a subset of the input is used to compute the output. For example, if you only look at the first five characters of a string to compute a hash, then all web urls will have the same hash value, leading to a massive number of collisions.\n",
    "\n",
    "3. **The function should uniformly distribute the data across the hash table**: this is required to avoid collisions, because non-uniform distributions lead to clustering, where several datapoints have the same hash-value. This decreases the efficiency of the hash function, because you have to compute and execute some strategy for resolving these collisions.\n",
    "\n",
    "For part two of this assignment, I decided to use the the ``APHash`` function created by Arash Partow, because its uniform qualities have already been extensively tested and it's based on decades of work on hash functions. It's a hybrid rotative and additive hash function, which takes a number in base sixteen and then raises it to the power of itself after bit shifting it using several prime numbers. As with many complicated hash functions, there's no formal proof for how its structure produces a uniform distribution. Instead, we can confirm its properties empirically:\n",
    "1. The function iterates through all of the characters of the input, incorporating them all into the final hash value\n",
    "2. The output is fully determined by the input -- no other values are used to calculate hashval\n",
    "3. The function uniformly distributes the data. The three graphs plot the distribution of the hash values of random character strings for different p-values. Across all three, we can see that the hash function is producing approximately uniform distributions, indicating that it's likely to be effective"
   ]
  },
  {
   "cell_type": "code",
   "execution_count": 5,
   "metadata": {},
   "outputs": [],
   "source": [
    "def APHash(key):\n",
    "    \"\"\"\n",
    "    Hash function which uses addition and rotation of a base sixteen number to create an output\n",
    "    \n",
    "    Parameters\n",
    "    ----------\n",
    "    key: str\n",
    "        the string from which the hash value is calculated\n",
    "    \n",
    "    Output\n",
    "    ------\n",
    "    hashval: int\n",
    "        the hash value calculated from the input string\n",
    "    \"\"\"\n",
    "    hashval = 0xAAAAAAAA # number in base sixteen\n",
    "    for i in range(len(key)):\n",
    "        if ((i & 1) == 0):\n",
    "            # bitwise rotation using primes\n",
    "            hashval ^= ((hashval <<  7) ^ ord(key[i]) * (hashval >> 3))\n",
    "        else:\n",
    "            # bitwise rotation using primes\n",
    "            hashval ^= (~((hashval << 11) + ord(key[i]) ^ (hashval >> 5)))\n",
    "    return hashval"
   ]
  },
  {
   "cell_type": "markdown",
   "metadata": {},
   "source": [
    "### Plotting the distribution of hash values [Test 1: Random Characters, Small q]"
   ]
  },
  {
   "cell_type": "code",
   "execution_count": 6,
   "metadata": {},
   "outputs": [
    {
     "data": {
      "text/plain": [
       "[]"
      ]
     },
     "execution_count": 6,
     "metadata": {},
     "output_type": "execute_result"
    },
    {
     "data": {
      "image/png": "[encoded data removed]",
      "text/plain": [
       "<Figure size 432x288 with 1 Axes>"
      ]
     },
     "metadata": {
      "needs_background": "light"
     },
     "output_type": "display_data"
    }
   ],
   "source": [
    "import string\n",
    "import random\n",
    "import matplotlib.pyplot as plt\n",
    "\n",
    "hash_values = []\n",
    "for i in range(1, 100):\n",
    "    for j in range(20):\n",
    "        chars = i\n",
    "        random_string = \"\".join(random.choices(string.ascii_letters + \n",
    "                                       string.punctuation + \n",
    "                                       string.digits,\n",
    "                                       k = chars))\n",
    "        hash_values.append(APHash(random_string) % 37)\n",
    "\n",
    "plt.hist(hash_values, bins = 'auto', color='#0504aa',rwidth=0.85)\n",
    "plt.xlabel(\"Hash Value\")\n",
    "plt.ylabel(\"Frequency\")\n",
    "plt.title(\"Distribution of Hash Values\")\n",
    "plt.plot()"
   ]
  },
  {
   "cell_type": "markdown",
   "metadata": {},
   "source": [
    "### Plotting the distribution of hash values [Test 2: Random Characters, Medium q]"
   ]
  },
  {
   "cell_type": "code",
   "execution_count": 7,
   "metadata": {},
   "outputs": [
    {
     "data": {
      "text/plain": [
       "[]"
      ]
     },
     "execution_count": 7,
     "metadata": {},
     "output_type": "execute_result"
    },
    {
     "data": {
      "image/png": "[encoded data removed]",
      "text/plain": [
       "<Figure size 432x288 with 1 Axes>"
      ]
     },
     "metadata": {
      "needs_background": "light"
     },
     "output_type": "display_data"
    }
   ],
   "source": [
    "# Plotting the distribution of hash values [Test 1]\n",
    "\n",
    "hash_values = []\n",
    "for i in range(1, 100):\n",
    "    for j in range(20):\n",
    "        chars = i\n",
    "        random_string = \"\".join(random.choices(string.ascii_letters + \n",
    "                                       string.punctuation + \n",
    "                                       string.digits,\n",
    "                                       k = chars))\n",
    "        hash_values.append(APHash(random_string) % 400)\n",
    "\n",
    "plt.hist(hash_values, bins = 'auto', color='#0504aa',rwidth=0.85)\n",
    "plt.xlabel(\"Hash Value\")\n",
    "plt.ylabel(\"Frequency\")\n",
    "plt.title(\"Distribution of Hash Values\")\n",
    "plt.plot()\n"
   ]
  },
  {
   "cell_type": "markdown",
   "metadata": {},
   "source": [
    "### Plotting the distribution of hash values [Test 3: Random Characters, Large q]"
   ]
  },
  {
   "cell_type": "code",
   "execution_count": 8,
   "metadata": {},
   "outputs": [
    {
     "data": {
      "text/plain": [
       "[]"
      ]
     },
     "execution_count": 8,
     "metadata": {},
     "output_type": "execute_result"
    },
    {
     "data": {
      "image/png": "[encoded data removed]",
      "text/plain": [
       "<Figure size 432x288 with 1 Axes>"
      ]
     },
     "metadata": {
      "needs_background": "light"
     },
     "output_type": "display_data"
    }
   ],
   "source": [
    "hash_values = []\n",
    "for i in range(1, 100):\n",
    "    for j in range(20):\n",
    "        chars = i\n",
    "        random_string = \"\".join(random.choices(string.ascii_letters + \n",
    "                                       string.punctuation + \n",
    "                                       string.digits,\n",
    "                                       k = chars))\n",
    "        hash_values.append(APHash(random_string) % 2000)\n",
    "\n",
    "plt.hist(hash_values, bins = 'auto', color='#0504aa',rwidth=0.85)\n",
    "plt.xlabel(\"Hash Value\")\n",
    "plt.ylabel(\"Frequency\")\n",
    "plt.title(\"Distribution of Hash Values\")\n",
    "plt.plot()"
   ]
  },
  {
   "cell_type": "code",
   "execution_count": 9,
   "metadata": {},
   "outputs": [],
   "source": [
    "class HashTableV2(HashTable):\n",
    "    def __init__(self):\n",
    "        \"\"\"\n",
    "        This class implements a hash table which calculates hashes without\n",
    "        rolling hashing\n",
    "        \n",
    "        Parameters (inherited from HashTable)\n",
    "        self.table: array\n",
    "            array used to implement a hash table\n",
    "        self.base: int\n",
    "            the base that each hash code is in\n",
    "        self.q: int\n",
    "            the divisor used in the hash function -- dynamic value\n",
    "        self.prime: int\n",
    "            the prime used in the second hash function in double hashing\n",
    "        self.hash_method: self.rolling_hashify OR self.static_hashify\n",
    "            the method used to compute hash values from substring inputs\n",
    "        self.collisions: int\n",
    "            # of collisions that occurred when constructing hash table\n",
    "        \"\"\"\n",
    "        super().__init__()\n",
    "        self.hash_method = self.static_hashify\n",
    "    \n",
    "    def APHash(self, key):\n",
    "        \"\"\"\n",
    "        Hash function which uses addition and rotation of a base sixteen number \n",
    "        to calculate a hash value\n",
    "    \n",
    "        Parameters\n",
    "        ----------\n",
    "        key: str\n",
    "            the string from which the hash value is calculated\n",
    "    \n",
    "        Output\n",
    "        ------\n",
    "        hashval: int\n",
    "            the hash value calculated from the input string\n",
    "        \"\"\"\n",
    "        hashval = 0xAAAAAAAA # number in base sixteen\n",
    "        for i in range(len(key)):\n",
    "            if ((i & 1) == 0):\n",
    "                # bitwise rotation using primes\n",
    "                hashval ^= ((hashval <<  7) ^ ord(key[i]) * (hashval >> 3))\n",
    "            else:\n",
    "                # bitwise rotation using primes\n",
    "                hashval ^= (~((hashval << 11) + ord(key[i]) ^ (hashval >> 5)))\n",
    "        return hashval\n",
    "        \n",
    "    def static_hashify(self, input_string, substring_length):\n",
    "        \"\"\"\n",
    "        Takes an input string and returns a list containing all keys\n",
    "        and values provided after hashing all substrings of length m\n",
    "        without using rolling hashing\n",
    "\n",
    "        Parameters\n",
    "        ---------\n",
    "        intput_string: str\n",
    "            The input string\n",
    "        substring_length: int\n",
    "            the length of all substrings to be extracted from the input string\n",
    "        \n",
    "        Output\n",
    "        ------\n",
    "        hash_outputs: lst of tuples\n",
    "            list of all keys, values and starting indexes of substrings\n",
    "        \"\"\"\n",
    "        \n",
    "        # preprocess the string to remove illegal characters\n",
    "        string = self.clean_string(input_string)\n",
    "\n",
    "        # create a list to hold all substrings of the given string\n",
    "        hash_outputs = []\n",
    "\n",
    "        n = len(string)\n",
    "        m = substring_length\n",
    "        # for substrings of the set length\n",
    "        k = 0\n",
    "    \n",
    "        # compute and store the value of all hashes\n",
    "        while k <= n - m:\n",
    "            hashval = self.APHash(string[k:k+m]) % self.q\n",
    "            hash_outputs.append((hashval, string[k:k+m], k))\n",
    "            k += 1\n",
    "            \n",
    "        return hash_outputs"
   ]
  },
  {
   "cell_type": "markdown",
   "metadata": {},
   "source": [
    "# Functionality Example\n",
    "This algorithm detects plagiarism by identifying common substrings that are greater than or equal to a certain length, and then flagging them as possible instances of plagiarism. In the example below, it detects the phrase \"I'm certain that hash tables can detect plagiarism\" as a possible case of plagiarism, by looking for common substrings greater than twenty characters and less than 50 (a somewhat arbitrary range, albeit of a length where single matches should indicate the presence of plagiarism).\n"
   ]
  },
  {
   "cell_type": "code",
   "execution_count": 10,
   "metadata": {},
   "outputs": [
    {
     "name": "stdout",
     "output_type": "stream",
     "text": [
      "Matches Found for strings of length 20\n",
      "Matches Found for strings of length 21\n",
      "Matches Found for strings of length 22\n",
      "Matches Found for strings of length 23\n",
      "Matches Found for strings of length 24\n",
      "Matches Found for strings of length 25\n",
      "Matches Found for strings of length 26\n",
      "Matches Found for strings of length 27\n",
      "Matches Found for strings of length 28\n",
      "Matches Found for strings of length 29\n",
      "Matches Found for strings of length 30\n",
      "Matches Found for strings of length 31\n",
      "Matches Found for strings of length 32\n",
      "Matches Found for strings of length 33\n",
      "Matches Found for strings of length 34\n",
      "Matches Found for strings of length 35\n",
      "Matches Found for strings of length 36\n",
      "Matches Found for strings of length 37\n",
      "Matches Found for strings of length 38\n",
      "Matches Found for strings of length 39\n",
      "Matches Found for strings of length 40\n",
      "Matches Found for strings of length 41\n",
      "Matches Found for strings of length 42\n",
      "Long Match Found\n",
      "[('imcertainthathashtablescandetectplagiarism', 19, 36)]\n"
     ]
    }
   ],
   "source": [
    "x = \"I had an original idea: I'm certain that hash tables can detect plagiarism.\"\n",
    "y = \"In part one of this assignment, I showed that I'm certain that hash tables can detect plagiarism\"\n",
    "\n",
    "example = HashTableV2()\n",
    "\n",
    "for substring_length in range(20, 50):\n",
    "    if example.compare_substrings(x, y, \n",
    "                                  substring_length, \n",
    "                                  verbose=False) != []:\n",
    "        print(f\"Matches Found for strings of length {substring_length}\")\n",
    "    if len(example.compare_substrings(x, y, \n",
    "                                      substring_length,\n",
    "                                      verbose = False)) == 1:\n",
    "        print(\"Long Match Found\")\n",
    "        print(example.compare_substrings(x, y, \n",
    "                                         substring_length, \n",
    "                                         verbose = False))\n"
   ]
  },
  {
   "cell_type": "markdown",
   "metadata": {},
   "source": [
    "# Tests"
   ]
  },
  {
   "cell_type": "code",
   "execution_count": 11,
   "metadata": {},
   "outputs": [
    {
     "name": "stdout",
     "output_type": "stream",
     "text": [
      "The load factor is: 0.224\n",
      "The load factor is: 0.026\n",
      "The load factor is: 0.0\n",
      "The load factor is: 0.0\n",
      "The load factor is: 0.0\n",
      "The load factor is: 0.003\n"
     ]
    },
    {
     "data": {
      "text/plain": [
       "[]"
      ]
     },
     "execution_count": 11,
     "metadata": {},
     "output_type": "execute_result"
    },
    {
     "data": {
      "image/png": "[encoded data removed]",
      "text/plain": [
       "<Figure size 432x288 with 1 Axes>"
      ]
     },
     "metadata": {
      "needs_background": "light"
     },
     "output_type": "display_data"
    }
   ],
   "source": [
    "import matplotlib.pyplot as plt\n",
    "\n",
    "hashtable = HashTableV2()\n",
    "\n",
    "# Test 1: Simple Test\n",
    "x = \"Today is Monday'\"\n",
    "y = 'today'\n",
    "assert hashtable.compare_substrings(x, y, 3) == [('tod', 0, 0), ('oda', 1, 1), ('day', 2, 2), ('day', 10, 2)]\n",
    "\n",
    "# Test 2: Plagiarism Detection\n",
    "x = \"I had an original idea: hash tables can detect plagiarism.\"\n",
    "y = \"In part one of this assignment, I showed that hash tables can detect plagiarism\"\n",
    "assert hashtable.compare_substrings(x, y, 29) == [('hashtablescandetectplagiarism', 19, 36)]\n",
    "\n",
    "# Test 3: Edge Cases\n",
    "x = \"\"\n",
    "y = \"\"\n",
    "assert hashtable.compare_substrings(x, y, 3) == []\n",
    "\n",
    "x = ',.;/'\n",
    "y = \"\"\n",
    "assert hashtable.compare_substrings(x, y, 1) == []\n",
    "\n",
    "x = \" \"\n",
    "y = \" \"\n",
    "assert hashtable.compare_substrings(x, y, 1) == []\n",
    "\n",
    "x = 1\n",
    "y = 2\n",
    "assert hashtable.compare_substrings(x, y, 1) == \"x and y must both be strings\"\n",
    "\n",
    "# OTHER TESTS\n",
    "# Uniformity of distribution Test 1\n",
    "x = \"In computing, a hash table (hash map) is a data structure that implements an associative array abstract data type, a structure that can map keys to values. A hash table uses a hash function to compute an index, also called a hash code, into an array of buckets or slots, from which the desired value can be found. During lookup, the key is hashed and the resulting hash indicates where the corresponding value is stored. Ideally, the hash function will assign each key to a unique bucket, but most hash table designs employ an imperfect hash function, which might cause hash collisions where the hash function generates the same index for more than one key. Such collisions are typically accommodated in some way. In a well-dimensioned hash table, the average cost (number of instructions) for each lookup is independent of the number of elements stored in the table. Many hash table designs also allow arbitrary insertions and deletions of key–value pairs, at (amortized[2]) constant average cost per operation.[3][4]\"\n",
    "y = \"A basic requirement is that the function should provide a uniform distribution of hash values. A non-uniform distribution increases the number of collisions and the cost of resolving them. Uniformity is sometimes difficult to ensure by design, but may be evaluated empirically using statistical tests, e.g., a Pearson's chi-squared test for discrete uniform distributions.[6][7]\"\n",
    "\n",
    "indexes = []\n",
    "hashtuples = hashtable.compare_substrings(x, y, 10, debug = True)\n",
    "for tup in hashtuples:\n",
    "    indexes.append(tup[0])\n",
    "\n",
    "plt.hist(indexes, bins = 'auto', color='#0504aa',rwidth=0.85)\n",
    "plt.xlabel(\"Hash Value\")\n",
    "plt.ylabel(\"Frequency\")\n",
    "plt.plot()"
   ]
  },
  {
   "cell_type": "code",
   "execution_count": 12,
   "metadata": {},
   "outputs": [
    {
     "name": "stdout",
     "output_type": "stream",
     "text": [
      "x: DQYdpx|RT$mMP,S6ag\";E._@o=mgAp8\\vce?8x-UT#+J,T.v\\G@`6\\f\\@ly=wi.HjD&*>?0'q5$:QE:b?VIw\"`\\OS0ecPTGA&:YI'H@h6{(*o~@ML2v.y&!SI2r+s#ZaLXZw&?p]Lx<f8_U/g(3r})\n",
      "y: k<]fFnP&;['L.]P-Dc.F${S7%dKZfI}t{9QE|^`&L4)mfz%qa-;5zZA(:Gm1^|M?;r(OST7c$'9WvVv+8O~@$cYeaW{p:%b\\0GFrgObD7sHI({2mc+g~D!XL:/_5F&dM'xpg!k}\\}]oZU5U#Z;z_?1\n",
      "The load factor is: 0.022\n"
     ]
    },
    {
     "data": {
      "text/plain": [
       "[]"
      ]
     },
     "execution_count": 12,
     "metadata": {},
     "output_type": "execute_result"
    },
    {
     "data": {
      "image/png": "[encoded data removed]",
      "text/plain": [
       "<Figure size 432x288 with 1 Axes>"
      ]
     },
     "metadata": {
      "needs_background": "light"
     },
     "output_type": "display_data"
    }
   ],
   "source": [
    "# Uniformity of distribution Test 2\n",
    "import string\n",
    "import random\n",
    "\n",
    "chars = 150\n",
    "x = \"\".join(random.choices(string.ascii_letters + \n",
    "                                       string.punctuation + \n",
    "                                       string.digits,\n",
    "                                       k = chars))\n",
    "y = \"\".join(random.choices(string.ascii_letters + \n",
    "                                       string.punctuation + \n",
    "                                       string.digits,\n",
    "                                       k = chars))\n",
    "\n",
    "print(\"x:\", x)\n",
    "print(\"y:\", y)\n",
    "\n",
    "indexes = []\n",
    "hashtuples = hashtable.compare_substrings(x, y, 10, debug = True)\n",
    "for tup in hashtuples:\n",
    "    indexes.append(tup[0])\n",
    "\n",
    "plt.hist(indexes, bins = 'auto', color='#0504aa',rwidth=0.85)\n",
    "plt.xlabel(\"Hash Value\")\n",
    "plt.ylabel(\"Frequency\")\n",
    "plt.plot()"
   ]
  },
  {
   "cell_type": "code",
   "execution_count": 13,
   "metadata": {},
   "outputs": [
    {
     "name": "stdout",
     "output_type": "stream",
     "text": [
      "The load factor is: 0.085\n"
     ]
    },
    {
     "data": {
      "text/plain": [
       "[]"
      ]
     },
     "execution_count": 13,
     "metadata": {},
     "output_type": "execute_result"
    },
    {
     "data": {
      "image/png": "[encoded data removed]",
      "text/plain": [
       "<Figure size 432x288 with 1 Axes>"
      ]
     },
     "metadata": {
      "needs_background": "light"
     },
     "output_type": "display_data"
    }
   ],
   "source": [
    "# Uniformity of distribution Test 3\n",
    "x = '123456789abcdefghijklmnopqrstuvwxyz'\n",
    "y = '123456789abcdefghijklmnopqrstuvwxyz'\n",
    "\n",
    "indexes = []\n",
    "hashtuples = hashtable.compare_substrings(x, y, 10, debug = True)\n",
    "for tup in hashtuples:\n",
    "    indexes.append(tup[0])\n",
    "\n",
    "plt.hist(indexes, bins = 'auto', color='#0504aa',rwidth=0.85)\n",
    "plt.xlabel(\"Hash Value\")\n",
    "plt.ylabel(\"Frequency\")\n",
    "plt.plot()"
   ]
  },
  {
   "cell_type": "markdown",
   "metadata": {},
   "source": [
    "# Justifications\n",
    "Most of the features in my implementation in part two are the same as those in part one (the data structures that I employ and my approach to table size). This justification section will instead focus on the changes that I made: the new hash function.\n",
    "\n",
    "## Hash Function\n",
    "The only significant change that I made to this version of the hashing algorithm was the use of a static hashing function, the functionality of much of which is similar to avoid duplication of effort. It removes illegal characters from the string, and then uses iterative string indexing to find all substrings of the specified length, and computing the hash value for each. I don't divide by ``mod len(table)`` until calling the ``compare_substrings()`` function, because the table size is calculated dynamically based on the expected number of substrings (taking open addressing into account).\n",
    "\n",
    "For justification of ``APHash()``, see the section on it above (don't want to duplicate my explanation unnecessarily).\n",
    "\n",
    "## Python Classes\n",
    "Here, I avoided duplication of effort and code by using class inheritance, wherein one class can inherit the methods and attributes from another. I used an attribute to control the use of static hashing instead of rolling hashing, minimising the amount that I needed to adapt the code.\n"
   ]
  },
  {
   "cell_type": "markdown",
   "metadata": {},
   "source": [
    "# Applications for Plagiarism\n",
    "Plagiarism involves claiming someone else's work as your own. One common check for plagiarism is whether more than seven words are copied verbatim from another source without reference or quotation. If we assume that words have at least five characters on average, we could call the algorithm many different times with substring_length from around 30 up to around 100. If any of these searches returned a result, we would have to investigate further to determine if it was actually plagiarism (see Pitfalls)  \n",
    "\n",
    "\n",
    "## Pitfalls\n",
    "The specific pitfalls and challenges that emerge depend on the context in which the plagiarism detection algorithm would be used. For this analysis, we're assuming that we're using it to compare two typed and formatted paragraphs/essays/etc.\n",
    "\n",
    "### Meaningful Substrings\n",
    "One pitfall of our implementation is that comparing all substrings wastes a lot of time, because for the sake of plagiarism detection, we should only be examining those substrings that begin at the start of words and end at the end of words: students aren't going to be copying phrases and sentences that start halfway through a word. By restricting our subset of substrings, we could save significant computational time and space.\n",
    "\n",
    "### Different types of plagiarism\n",
    "There are many different types of plagiarism (e.g. presenting ideas as original when they're stolen, using images and other media without attribution, copying code segments). This system can only detect the type of plagiarism that involves exactly copying phrases and sentences.\n",
    "\n",
    "### Commonly occuring substrings\n",
    "In many cases, strings can share identical phrases or sentences without plagiarism being involved. For example, instructions in an assignment are on every student's paper, but clearly don't constitute plagiarism. This means this algorithm either has to be given only relevant text (e.g. student response sections) as strings, or \n",
    "\n",
    "### Quotations\n",
    "The algorithmic strategy employed here doesn't ignore substrings when they are quotations. This means if two students use the same quote, the algorithm will pick up on it, leading to the identification of plagiarism where it doesn't exist. This would likely require human identification to fix, or the construction of a checking algorithm that looks to see whether the identified match occurs within a pair of quotation marks and dismisses it. \n",
    "\n",
    "\n",
    "### Brute Force Approach\n",
    "The brute force version of the algorithm would involve first finding all substrings of a given length in ``Y`` (the text against which plagiarism is being judged), and then determining if these substrings exist in ``X`` (the potentially plagiarising  text). To make this comparison, we could slide a \"window\" of the appropriate length through ``X``, comparing each resulting substring with all of the substrings that we found from ``Y``.\n",
    "\n",
    "The reason that this is so much slower than the hash table implementation is that, for each substring of ``X``, we have to compare it against all substrings in ``Y`` of the given length to see if it's a match.\n",
    "\n",
    "For substrings of length ``k``, the number of substrings in ``x`` is given by ``len(x) - k + 1``. We can find each of these substrings in time ``O(1)`` using string indexing. This means the time complexity to find the substrings of ``x`` of length ``k`` is ``O(1)*(len(x) - k +1) == O(len(x) - k + 1)``. For a single substring of ``y``, we then need to compare against all substrings of ``x``. Comparison takes time ``O(1)``, so it takes ``O(1)*(len(x) - k +1) == O(len(x) - k + 1)`` to compare a single substring against those of ``x``. We then have to do this for all ``len(y) - k + 1`` substrings of ``y``.\n",
    "\n",
    "In summary:\n",
    "\n",
    "Finding substrings of ``x``: ``O(len(x) - k + 1)``\n",
    "Comparing all subtrings of ``y`` with those of ``x``: ``(len(y) - k + 1)*O(len(x) - k + 1)``\n",
    "\n",
    "This means overall time complexity is:\n",
    "``O(len(x) - k + 1)`` + ``(len(y) - k + 1)*O(len(x) - k + 1)``\n",
    "\n",
    "= ``(len(y) - k + 1)*O(len(x) - k + 1)``\n",
    "\n",
    "This is far worse than the ``O(len(x))`` time complexity required for the hashing approach, since it involves multiplication by ``len(y)-k+1``. If we assume that ``len(y)`` is proportional to ``len(x)``, it ends up being roughly quadratic ``O(len(x)^2)``, as opposed to the the linear time complexity below.\n"
   ]
  },
  {
   "cell_type": "markdown",
   "metadata": {},
   "source": [
    "# Complexity Analysis\n",
    "Theoretically, the time complexity of the algorithm has three main components: the time taken to build the hash table for ``x``, the time taken to find all of the hashes for ``y``, and the time to search ``x``'s hash table using the hashes and substrings created from ``y``.\n",
    "\n",
    "\n",
    "### Building the Hash Table for X\n",
    "\n",
    "To build the hash table for ``x``, we have to compute the hash values for each substring in ``x``, and then insert them into the table. \n",
    "\n",
    "#### Computing Hash Values: Rolling Hash Values (Version 1)\n",
    "When using rolling hashing to find substrings of length ``k`` from a string of length ``n``, the overall time complexity is ``O(n)``. This is because the first substring takes time ``O(k)`` to calculate, because you have to visit and compute ascii values for each character in the substring. For each of the subsequent substrings, we can find the hash value in ``O(1)``, because we only have to perform two operations, each of which has constant time complexity. We have to do this for all ``n-k`` remaining substrings, which has an overall time complexity of ``O(n-k)*O(1) = O(n-k)``.\n",
    "\n",
    "Therefore, the overall time complexity is ``O(n-k) + O(k) == O(n-k+k) == O(n)``, where ``n = len(x)``\n",
    "\n",
    "#### Computing Hash Values: Static Hash Values (Version 2)\n",
    "The second implementation of the algorithm uses APHash() to compute hash values. This performs simple ``O(1)`` operations for each substring formed from ``O(x)``. For a single substring of length ``k``, the time complexity is therefore ``O(k)``. We have do this for each substring in ``x``, of which there rae ``n-k+1``. Therefore the overall time complexity of insertion for version 2 is ``O(n-k+1)*k = O(k(n-k+1))``.\n",
    "\n",
    "#### Insertion\n",
    "By design, the load factor of ``x``'s hash table is less than one (as long as the string isn't composed entirely of duplicate substrings of the given length), because the open-addressing structure and dynamic length means that on average each slot can't have more than one item in it. This means that insertion has a runtime of ``O(1/(1-alpha))`` for each entry. Therefore, the total time for insertion is ``O(1/(1-alpha))*n``, where ``n`` is the number of substring. For a given input string ``x`` (after processing out all illegal characters), the number of substrings of length ``k`` is equal to `` len(x) - k + 1``. Therefore the total time complexity for insertion is ``(len(x) - k + 1)*O(1/(1-alpha)) = O(1/(1-alpha)(len(x) - k + 1)``\n",
    "\n",
    "### Finding Hashes for Y\n",
    "The same logic applies for finding ``y``'s hash values: the overall time complexity for V1 is ``O(n)``, where ``n = len(y)``.\n",
    "\n",
    "### Searching for Common Substrings\n",
    "For each of the substrings in ``y``, we have to search the table. With no collisions, this would have a time complexity of ``O(1)``, unless there are a massive number of collisions. With the open addressing structure, we have to keep on recalculating the hash value and jumping indexes during search if the item isn't in the slots that we check (which only happens in the case of a collision or if it's not there at all). As long as the number of collisions remains low (proportional to ``O(1)``, search itself will have a time complexity of ``O(1)``. If the number of collisions is proportional to ``O(n)``, then an individual search will have time complexity ``O(n)``.\n",
    "\n",
    "Below, I experimentally confirm that the number of collisions for both versions of the hash function remains extremely low (remaining around 2-3 collisions regardless of input size). This indicates that the overall time complexity of an individual search is ``O(1)``, and that the time complexity of search for all substrings of length ``k`` is ``O(1)*(len(y) - k + 1) == O(len(y) - k + 1)``.\n",
    "\n",
    "# Summary\n",
    "The asymptotic time complexity of the two versions differs only in the time required to calculate the hash values. For both, table insertion takes ``O(1/(1-alpha)(len(x) - k + 1)``, and searching for common substrings takes ``O(len(y) - k + 1)``.\n",
    "\n",
    "For the rolling hashing used in version 1 of the code, the time complexity of computing hash values is ``O(len(x))``.\n",
    "\n",
    "For the static hsahing used in version 2 of the code, the time complexity of computing hash values is ``O(k(len(x)-k+1))``.\n",
    "\n",
    "Therefore, overall time complexity is:\n",
    "V1: ``O(1/(1-alpha)(len(x) - k + 1) + O(len(y) - k + 1) +  O(len(x))``\n",
    "V2: ``O(1/(1-alpha)(len(x) - k + 1) + O(len(y) - k + 1) +  O(k(len(x)-k+1))``\n",
    "\n",
    "If we make some assumptions, we can simplify this further. First, because I use open addressing, my load factor will always be less than one, and therefore ``O(1/(1-alpha)) == O(1)``. Second, if we assume that ``k`` is proportional to ``O(1)`` rather than ``O(len(x))``, we can treat it as ``O(1)``. This is reasonable because, when looking for plagiarism, you're likely to be searching for shorter strings (around 30-50 characters) in a much larger text. With these assumptions, the time complexity simplifies to:\n",
    "\n",
    "V1: ``O(len(x)) + O(len(y)) +  O(len(x))``\n",
    "V2: ``O((len(x)) + O(len(y)) +  O(k(len(x))``\n",
    "\n",
    "Thes are asymptotically the same! And, assuming that ``len(x)`` is proportional to ``len(y)``, they are linear:\n",
    "\n",
    "Let ``len(x) == n`` and ``len(y) = k*len(x)``:\n",
    "\n",
    "V1: ``O(n)+ kO(n) +  O(n) == (k+2)O(n) = O(n)``\n",
    "V2: ``O(n) + kO(n) +  kO(n) == (2k+1)O(n) = O(n)``\n",
    "\n",
    "# Empirical Validity\n",
    "Given that the two algorithms have the same assymptotic time complexity, we need to look at empirical plots to determine which is better. Below, I average many different trials and find that the second version of the hashing algorithm takes far more time than the first. This most likely indicates that the time saved by implementing rolling hashing outweighs the benefits of using a hash function that creates a more uniform distribution. We can see this empirically too: the number of collisions is roughly equal for each implementation.\n",
    "\n",
    "The plots below also validate many of my theoretical conclusions: the functions of time againt input size assume a linear functional form, as do the the number of collisions relative to input size. Table size grows quadratically with input size, which makes sense given my implementation of open addressing: the double hashing function tends to result in indices that are the square of the previous index.\n",
    "\n",
    "*Note: originally I tried to do these tests with randomly generated characters, but found that very few matches were occurring, so I imported a dictionary of words and created input strings that were the concatenation of many randomly selected words so that matches were more commmon and the tests were more representative of the class's actual context*\n",
    "\n",
    "\n",
    "# Space Complexity\n",
    "It's difficult to theoretically determine the space requirements of the algorithms, because they dynamically change table length based on the hash values that are calculated, and those hash functions are unpredictable and heavily based on input. After performing empirical tests, it appears that both functions have exactly the same space complexity, in the realm of ``O(n^2)``, where ``n = len(x)``. Intuitively, this makes  sense -- the double hashed open addressing function tends to create hashes that are roughly equivalent to the squared term of the input hash. Given that both algorithms have the same space complexity, we can rely on other metrics such as time complexity and the number of collisions to conclude which strategy is more effective."
   ]
  },
  {
   "cell_type": "code",
   "execution_count": 14,
   "metadata": {},
   "outputs": [
    {
     "name": "stdout",
     "output_type": "stream",
     "text": [
      "Time taken for v1: 8.296966552734375e-05\n",
      "Time taken for v2: 8.606910705566406e-05\n",
      "Space required for v1: 69\n",
      "Space required for v2: 49\n",
      "\n",
      "\n",
      "Time taken for v1: 0.0002741813659667969\n",
      "Time taken for v2: 0.0012028217315673828\n",
      "Space required for v1: 842\n",
      "Space required for v2: 836\n",
      "\n",
      "\n",
      "Time taken for v1: 1.6927719116210938e-05\n",
      "Time taken for v2: 1.1682510375976562e-05\n",
      "Space required for v1: 0\n",
      "Space required for v2: 1\n",
      "\n",
      "\n",
      "Time taken for v1: 1.7881393432617188e-05\n",
      "Time taken for v2: 8.821487426757812e-06\n",
      "Space required for v1: 0\n",
      "Space required for v2: 1\n",
      "\n",
      "\n",
      "Time taken for v1: 1.9073486328125e-06\n",
      "Time taken for v2: 9.5367431640625e-07\n",
      "Space required for v1: 28\n",
      "Space required for v2: 28\n",
      "\n",
      "\n"
     ]
    }
   ],
   "source": [
    "import time\n",
    "\n",
    "# Initial Time and Space Tests\n",
    "\n",
    "def timed_substring_comparison(x, y, substring_length, hashversion, verbose=False):\n",
    "    \"\"\"\n",
    "    Times the execution of substring matching\n",
    "    \n",
    "    Parameters\n",
    "    ----------\n",
    "    x: str\n",
    "        the first input string to be compared\n",
    "    y: str\n",
    "        the second input string to be compared\n",
    "    substring_length: int\n",
    "        the length of the substring matches to be searched for in x and y\n",
    "    hashversion: 1 OR 2\n",
    "        if 1, uses HashTable(); if 2, uses HashTableV2()\n",
    "    verbose: Boolean\n",
    "        switch variable; if True reports the load factor of the hash table\n",
    "        \n",
    "    Outputs\n",
    "    -------\n",
    "    end - start: numerical\n",
    "        the time taken for the string matching method to execute\n",
    "    \"\"\"\n",
    "    \n",
    "    if hashversion == 1:\n",
    "        hashtable = HashTable()\n",
    "    elif hashversion == 2:\n",
    "        hashtable = HashTableV2()\n",
    "    else:\n",
    "        return \"Invalid hashversion value: please use either 1 or 2\"\n",
    "    \n",
    "    start = time.time()\n",
    "    hashtable.compare_substrings(x, y, substring_length, verbose=verbose)\n",
    "    end = time.time()\n",
    "    return end - start\n",
    "\n",
    "def space_substring_comparison(x, y, substring_length, hashversion, verbose=False):\n",
    "    \"\"\"\n",
    "    Returns the length of the hash table produced during string matching\n",
    "    \n",
    "    Parameters\n",
    "    ----------\n",
    "    x: str\n",
    "        the first input string to be compared\n",
    "    y: str\n",
    "        the second input string to be compared\n",
    "    substring_length: int\n",
    "        the length of the substring matches to be searched for in x and y\n",
    "    hashversion: 1 OR 2\n",
    "        if 1, uses HashTable(); if 2, uses HashTableV2()\n",
    "    verbose: Boolean\n",
    "        switch variable; if True reports the load factor of the hash table\n",
    "        \n",
    "    Outputs\n",
    "    -------\n",
    "    len(xtable): int\n",
    "        the length of the array used to represent the hash table\n",
    "    \"\"\"\n",
    "    if hashversion == 1:\n",
    "        hashtable = HashTable()\n",
    "    elif hashversion == 2:\n",
    "        hashtable = HashTableV2()\n",
    "    else:\n",
    "        return \"Invalid hashversion value: please use either 1 or 2\"\n",
    "    \n",
    "    xtable = hashtable.compare_substrings(x, y, substring_length, xswitch = True, verbose=verbose)\n",
    "    return len(xtable)\n",
    "\n",
    "def collision_substring_comparison(x, y, substring_length, \n",
    "                                   hashversion, verbose=False):\n",
    "    \"\"\"\n",
    "    Returns the number of collisions that occurred during string matching\n",
    "    \n",
    "    Parameters\n",
    "    ----------\n",
    "    x: str\n",
    "        the first input string to be compared\n",
    "    y: str\n",
    "        the second input string to be compared\n",
    "    substring_length: int\n",
    "        the length of the substring matches to be searched for in x and y\n",
    "    hashversion: 1 OR 2\n",
    "        if 1, uses HashTable(); if 2, uses HashTableV2()\n",
    "    verbose: Boolean\n",
    "        switch variable; if True reports the load factor of the hash table\n",
    "        \n",
    "    Outputs\n",
    "    -------\n",
    "    collisions: int\n",
    "        the number of collisions that occured during string matching\n",
    "    \"\"\"\n",
    "    if hashversion == 1:\n",
    "        hashtable = HashTable()\n",
    "    elif hashversion == 2:\n",
    "        hashtable = HashTableV2()\n",
    "    else:\n",
    "        return \"Invalid hashversion value: please use either 1 or 2\"\n",
    "    \n",
    "    collisions = hashtable.compare_substrings(x, \n",
    "                                              y, \n",
    "                                              substring_length, \n",
    "                                              collision_count = True, \n",
    "                                              verbose=verbose)\n",
    "    return collisions\n",
    "\n",
    "\n",
    "# TESTS\n",
    "# Test 1: Simple Test\n",
    "x = \"Today is Monday'\"\n",
    "y = 'today'\n",
    "print(f\"Time taken for v1: {timed_substring_comparison(x, y, 3, 1)}\")\n",
    "print(f\"Time taken for v2: {timed_substring_comparison(x, y, 3, 2)}\")\n",
    "print(f\"Space required for v1: {space_substring_comparison(x, y, 3, 1)}\")\n",
    "print(f\"Space required for v2: {space_substring_comparison(x, y, 3, 2)}\")\n",
    "print(\"\\n\")\n",
    "\n",
    "# Test 2: Plagiarism Detection\n",
    "x = \"I had an original idea: hash tables can detect plagiarism.\"\n",
    "y = \"In part one of this assignment, I showed that hash tables can detect plagiarism\"\n",
    "print(f\"Time taken for v1: {timed_substring_comparison(x, y, 29, 1)}\")\n",
    "print(f\"Time taken for v2: {timed_substring_comparison(x, y, 29, 2)}\")\n",
    "print(f\"Space required for v1: {space_substring_comparison(x, y, 3, 1)}\")\n",
    "print(f\"Space required for v2: {space_substring_comparison(x, y, 3, 2)}\")\n",
    "print(\"\\n\")\n",
    "\n",
    "# Test 3: Edge Cases\n",
    "x = \"\"\n",
    "y = \"\"\n",
    "print(f\"Time taken for v1: {timed_substring_comparison(x, y, 1, 1)}\")\n",
    "print(f\"Time taken for v2: {timed_substring_comparison(x, y, 1, 2)}\")\n",
    "print(f\"Space required for v1: {space_substring_comparison(x, y, 3, 1)}\")\n",
    "print(f\"Space required for v2: {space_substring_comparison(x, y, 3, 2)}\")\n",
    "print(\"\\n\")\n",
    "\n",
    "x = ',.;/'\n",
    "y = \"\"\n",
    "print(f\"Time taken for v1: {timed_substring_comparison(x, y, 1, 1)}\")\n",
    "print(f\"Time taken for v2: {timed_substring_comparison(x, y, 1, 2)}\")\n",
    "print(f\"Space required for v1: {space_substring_comparison(x, y, 3, 1)}\")\n",
    "print(f\"Space required for v2: {space_substring_comparison(x, y, 3, 2)}\")\n",
    "print(\"\\n\")\n",
    "\n",
    "x = 1\n",
    "y = 2\n",
    "print(f\"Time taken for v1: {timed_substring_comparison(x, y, 1, 1)}\")\n",
    "print(f\"Time taken for v2: {timed_substring_comparison(x, y, 1, 2)}\")\n",
    "print(f\"Space required for v1: {space_substring_comparison(x, y, 3, 1)}\")\n",
    "print(f\"Space required for v2: {space_substring_comparison(x, y, 3, 2)}\")\n",
    "print(\"\\n\")"
   ]
  },
  {
   "cell_type": "code",
   "execution_count": 16,
   "metadata": {},
   "outputs": [
    {
     "data": {
      "text/plain": [
       "<matplotlib.legend.Legend at 0x113cae390>"
      ]
     },
     "execution_count": 16,
     "metadata": {},
     "output_type": "execute_result"
    },
    {
     "data": {
      "image/png": "[encoded data removed]",
      "text/plain": [
       "<Figure size 432x288 with 1 Axes>"
      ]
     },
     "metadata": {
      "needs_background": "light"
     },
     "output_type": "display_data"
    }
   ],
   "source": [
    "# TEST ONE: EXECUTION TIME FOR V1 AND V2\n",
    "\n",
    "import matplotlib.pyplot as plt\n",
    "import random\n",
    "import string\n",
    "import time\n",
    "\n",
    "# importing a dictionary\n",
    "import requests\n",
    "word_site = \"https://www.mit.edu/~ecprice/wordlist.10000\"\n",
    "response = requests.get(word_site)\n",
    "words = response.content.splitlines()\n",
    "\n",
    "timev1 = []\n",
    "timev2 = []\n",
    "for char_length in range(30, 130, 10):\n",
    "    # lists for holding trial outcomes\n",
    "    trial_timev1 = []\n",
    "    trial_timev2 = []\n",
    "    \n",
    "    for trial in range(10):\n",
    "        \"\"\"\n",
    "        This section of the code chooses random words from a dictionary and \n",
    "        concatenates them, shortening them to the length specified in char_length.\n",
    "        This means the inputs more closely approximate the actual context of the \n",
    "        problem (plagiarism in student submissions), whereas the random\n",
    "        characters that I originally used did not.\n",
    "        \"\"\"\n",
    "        x = \"\".join([i.decode(\"utf-8\") for i in random.choices(words, k = 50)])\n",
    "        x = x[:char_length]  \n",
    "        y = \"\".join([i.decode(\"utf-8\") for i in random.choices(words, k = 50)])\n",
    "        y = y[:char_length]\n",
    "        \n",
    "        trial_timev1.append(timed_substring_comparison(x, y, 20, 1))\n",
    "        trial_timev2.append(timed_substring_comparison(x, y, 20, 2))\n",
    "    \n",
    "    # average trial outcomes and append to overall lists\n",
    "    timev1.append(sum(trial_timev1)/len(trial_timev1))\n",
    "    timev2.append(sum(trial_timev2)/len(trial_timev2))\n",
    "\n",
    "x_axis = [i for i in range(30, 130, 10)]\n",
    "\n",
    "plt.plot(x_axis, timev1, color='red', label=\"Hashing Algorithm v1\")\n",
    "plt.plot(x_axis, timev2, color='blue', label=\"Hashing Algorithm v2\")\n",
    "plt.xlabel('Input Size')\n",
    "plt.ylabel(\"Execution Time [secs]\")\n",
    "plt.title(\"Execution Time for String Matching against Input Size\")\n",
    "plt.legend()\n",
    "    \n",
    "        "
   ]
  },
  {
   "cell_type": "code",
   "execution_count": 17,
   "metadata": {
    "scrolled": true
   },
   "outputs": [
    {
     "data": {
      "text/plain": [
       "<matplotlib.legend.Legend at 0x114322eb8>"
      ]
     },
     "execution_count": 17,
     "metadata": {},
     "output_type": "execute_result"
    },
    {
     "data": {
      "image/png": "[encoded data removed]",
      "text/plain": [
       "<Figure size 432x288 with 1 Axes>"
      ]
     },
     "metadata": {
      "needs_background": "light"
     },
     "output_type": "display_data"
    }
   ],
   "source": [
    "import matplotlib.pyplot as plt\n",
    "import random\n",
    "import string\n",
    "import time\n",
    "\n",
    "import requests\n",
    "word_site = \"https://www.mit.edu/~ecprice/wordlist.10000\"\n",
    "response = requests.get(word_site)\n",
    "words = response.content.splitlines()\n",
    "\n",
    "spacev1 = []\n",
    "spacev2 = []\n",
    "for char_length in range(30, 110, 10):\n",
    "    # lists for holding trial outcomes\n",
    "    trial_spacev1 = []\n",
    "    trial_spacev2 = []\n",
    "    for trial in range(5):\n",
    "        \"\"\"\n",
    "        This section of the code chooses random words from a dictionary and \n",
    "        concatenates them, shortening them to the length specified in char_length.\n",
    "        This means the inputs more closely approximate the actual context of the \n",
    "        problem (plagiarism in student submissions), whereas the random\n",
    "        characters that I originally used did not.\n",
    "        \"\"\"\n",
    "        x = \"\".join([i.decode(\"utf-8\") for i in random.choices(words, k = 50)])\n",
    "        x = x[:char_length]  \n",
    "        y = \"\".join([i.decode(\"utf-8\") for i in random.choices(words, k = 50)])\n",
    "        y = y[:char_length]\n",
    "        \n",
    "        trial_spacev1.append(space_substring_comparison(x, y, 20, 1))\n",
    "        trial_spacev2.append(space_substring_comparison(x, y, 20, 2))\n",
    "    \n",
    "    # average trial outcomes and append to overall lists\n",
    "    spacev1.append(sum(trial_spacev1)/len(trial_spacev1))\n",
    "    spacev2.append(sum(trial_spacev2)/len(trial_spacev2))\n",
    "\n",
    "x_axis = [i for i in range(30, 110, 10)]\n",
    "\n",
    "plt.plot(x_axis, spacev1, color='red', label=\"Hashing Algorithm v1\")\n",
    "plt.plot(x_axis, spacev2, color='blue', label=\"Hashing Algorithm v2\")\n",
    "plt.xlabel('Input Size')\n",
    "plt.ylabel(\"Hash Table Size\")\n",
    "plt.title(\"Hash Table Size for String Matching against Input Size\")\n",
    "plt.legend()\n",
    "     \n",
    "        "
   ]
  },
  {
   "cell_type": "code",
   "execution_count": 18,
   "metadata": {},
   "outputs": [
    {
     "data": {
      "text/plain": [
       "<matplotlib.legend.Legend at 0x113a901d0>"
      ]
     },
     "execution_count": 18,
     "metadata": {},
     "output_type": "execute_result"
    },
    {
     "data": {
      "image/png": "[encoded data removed]",
      "text/plain": [
       "<Figure size 432x288 with 1 Axes>"
      ]
     },
     "metadata": {
      "needs_background": "light"
     },
     "output_type": "display_data"
    }
   ],
   "source": [
    "import matplotlib.pyplot as plt\n",
    "import random\n",
    "import string\n",
    "import time\n",
    "\n",
    "import requests\n",
    "word_site = \"https://www.mit.edu/~ecprice/wordlist.10000\"\n",
    "response = requests.get(word_site)\n",
    "words = response.content.splitlines()\n",
    "\n",
    "colv1 = []\n",
    "colv2 = []\n",
    "for char_length in range(30, 110, 10):\n",
    "    # lists for holding trial outcomes\n",
    "    trial_colv1 = []\n",
    "    trial_colv2 = []\n",
    "    for trial in range(20):\n",
    "        \"\"\"\n",
    "        This section of the code chooses random words from a dictionary and \n",
    "        concatenates them, shortening them to the length specified in char_length.\n",
    "        This means the inputs more closely approximate the actual context of the \n",
    "        problem (plagiarism in student submissions), whereas the random\n",
    "        characters that I originally used did not.\n",
    "        \"\"\"\n",
    "        x = \"\".join([i.decode(\"utf-8\") for i in random.choices(words, k = 50)])\n",
    "        x = x[:char_length]  \n",
    "        y = \"\".join([i.decode(\"utf-8\") for i in random.choices(words, k = 50)])\n",
    "        y = y[:char_length]\n",
    "        \n",
    "        trial_colv1.append(collision_substring_comparison(x, y, 20, 1))\n",
    "        trial_colv2.append(collision_substring_comparison(x, y, 20, 2))\n",
    "    \n",
    "    # average trial outcomes and append to overall lists\n",
    "    colv1.append(sum(trial_colv1)/len(trial_colv1))\n",
    "    colv2.append(sum(trial_colv2)/len(trial_colv2))\n",
    "\n",
    "x_axis = [i for i in range(30, 110, 10)]\n",
    "\n",
    "plt.plot(x_axis, colv1, color='red', label=\"Hashing Algorithm v1\")\n",
    "plt.plot(x_axis, colv2, color='blue', label=\"Hashing Algorithm v2\")\n",
    "plt.xlabel('Input Size')\n",
    "plt.ylabel(\"Number of Collisions\")\n",
    "plt.title(\"Number of Collisions during String Matching against Input Size\")\n",
    "\n",
    "plt.legend()\n",
    "     \n",
    "        "
   ]
  }
 ],
 "metadata": {
  "kernelspec": {
   "display_name": "Python 3",
   "language": "python",
   "name": "python3"
  },
  "language_info": {
   "codemirror_mode": {
    "name": "ipython",
    "version": 3
   },
   "file_extension": ".py",
   "mimetype": "text/x-python",
   "name": "python",
   "nbconvert_exporter": "python",
   "pygments_lexer": "ipython3",
   "version": "3.7.3"
  }
 },
 "nbformat": 4,
 "nbformat_minor": 2
}
